{
 "cells": [
  {
   "cell_type": "code",
   "execution_count": null,
   "metadata": {
    "scrolled": false
   },
   "outputs": [],
   "source": [
    "from ANA_GAN import ANA_GAN\n",
    "import torch\n",
    "\n",
    "\"\"\" The following dict specifies the configuration of the experiments.\n",
    "noise_dim and code_dim are the dimensions of $z$ and $c$.\n",
    "num_labels incidcate the number of labels in the data. When supervised is true, it should be provided. \n",
    "Otherwise num_labels=1 means the label information are not used. \n",
    "Label training means the ACGAN method is used to ensure the generative model have used the label information.\n",
    "R_delay is the number of begining epochs when R is not trained. \n",
    "Because at the begining of training, G has not learned the distribution well enough,\n",
    "and R cannot learn the analogical relation. \"\"\"\n",
    "\n",
    "MNIST = {\n",
    "    'dataset': 'mnist', 'noise_dim': 16, 'code_dim': 8, 'num_labels': 1,\\\n",
    "              'supervised': False, 'label_training': False, \\\n",
    "             'epoch': 200, 'batch_size': 32, 'lr': 1e-5 * 2, 'R_delay': 100, \\\n",
    "}\n",
    "\n",
    "\n",
    "MNIST_sup = {\n",
    "    'dataset': 'mnist_sup', 'noise_dim': 16, 'code_dim': 4, 'num_labels': 10,\\\n",
    "              'supervised': True, 'label_training': True, \\\n",
    "             'epoch': 200, 'batch_size': 32, 'lr': 1e-5 * 2, 'R_delay': 100, \\\n",
    "}\n",
    "\n",
    "\n",
    "data_settings = [MNIST, MNIST_sup]\n",
    "\n",
    "for i1 in [0]:\n",
    "\n",
    "    kwargs = data_settings[i1]\n",
    "\n",
    "    # init\n",
    "    anagan = ANA_GAN(gpu_mode = True, **kwargs)\n",
    "    anagan.initializeTensorboardXWriter()\n",
    "    \n",
    "    anagan.printNetArch() # show the network architecture\n",
    "    \n",
    "    # begin the training\n",
    "    anagan.train(flag_save_per_epoch = True, flag_visualize_per_epoch = True, R_delay = kwargs['R_delay'] )\n",
    "\n",
    "    # get the animation of the variation of different codes\n",
    "    anagan.generate_code_animation(epoch = 0)\n",
    "    # get the value of the subspace score\n",
    "    anagan.getDisentanglementMetric(ii)"
   ]
  },
  {
   "cell_type": "code",
   "execution_count": null,
   "metadata": {
    "scrolled": false
   },
   "outputs": [],
   "source": [
    "from ANA_VAE import ANA_VAE\n",
    "import torch\n",
    "\n",
    "MNIST = {\n",
    "    'dataset': 'mnist', 'noise_dim': 1, 'code_dim': 16, 'num_labels': 1,\\\n",
    "              'supervised': False, 'label_training': False, \\\n",
    "             'epoch': 200, 'batch_size': 32, 'lr': 1e-4, 'R_delay': 100\n",
    "}\n",
    "\n",
    "\n",
    "MNIST_sup = {\n",
    "    'dataset': 'mnist_sup', 'noise_dim': 1, 'code_dim': 8, 'num_labels': 10,\\\n",
    "              'supervised': True, 'label_training': True, \\\n",
    "             'epoch': 200, 'batch_size': 32, 'lr': 1e-4, 'R_delay': 100\n",
    "}\n",
    "\n",
    "data_settings = [MNIST, MNIST_sup]\n",
    "\n",
    "for i1 in [0]:\n",
    "    kwargs = data_settings[i1]\n",
    "\n",
    "    ana_vae = ANA_VAE(gpu_mode = False, **kwargs)\n",
    "    ana_vae.initializeTensorboardXWriter()\n",
    "\n",
    "    ana_vae.printNetArch()\n",
    "\n",
    "    ana_vae.train(flag_save_per_epoch = True, flag_visualize_per_epoch = True, R_delay = kwargs['R_delay'] )\n",
    "\n",
    "    ana_vae.generate_code_animation(epoch = 0)\n",
    "    ana_vae.getDisentanglementMetric()"
   ]
  },
  {
   "cell_type": "code",
   "execution_count": null,
   "metadata": {},
   "outputs": [],
   "source": []
  }
 ],
 "metadata": {
  "kernelspec": {
   "display_name": "Python 3",
   "language": "python",
   "name": "python3"
  },
  "language_info": {
   "codemirror_mode": {
    "name": "ipython",
    "version": 3
   },
   "file_extension": ".py",
   "mimetype": "text/x-python",
   "name": "python",
   "nbconvert_exporter": "python",
   "pygments_lexer": "ipython3",
   "version": "3.6.0"
  }
 },
 "nbformat": 4,
 "nbformat_minor": 2
}
